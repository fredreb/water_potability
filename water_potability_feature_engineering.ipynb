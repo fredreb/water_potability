{
 "cells": [
  {
   "cell_type": "markdown",
   "metadata": {},
   "source": [
    "# Water potability\n",
    "# Feature engineering, logical\n"
   ]
  },
  {
   "cell_type": "code",
   "execution_count": 177,
   "metadata": {},
   "outputs": [],
   "source": [
    "# General imports\n",
    "import numpy as np\n",
    "import pandas as pd\n",
    "import seaborn as sns\n",
    "import sklearn\n",
    "import matplotlib.pyplot as plt\n",
    "\n",
    "\n",
    "# Import AzureML-Core\n",
    "from azureml.core import Workspace, Dataset, Datastore\n",
    "\n",
    "# Register workspace\n",
    "ws = Workspace.from_config()\n",
    "\n",
    "# Import dataset from Azure ML\n",
    "dataset = Dataset.get_by_name(ws, name='water_potability_cleaned')\n",
    "\n",
    "# Convert to pandas.DataFrame\n",
    "dfo = dataset.to_pandas_dataframe() # dfo = Original DataFrame import"
   ]
  },
  {
   "cell_type": "code",
   "execution_count": 178,
   "metadata": {},
   "outputs": [
    {
     "data": {
      "text/plain": [
       "ph                 0\n",
       "Hardness           0\n",
       "Solids             0\n",
       "Chloramines        0\n",
       "Sulfate            0\n",
       "Conductivity       0\n",
       "Organic_carbon     0\n",
       "Trihalomethanes    0\n",
       "Turbidity          0\n",
       "Potability         0\n",
       "dtype: int64"
      ]
     },
     "execution_count": 178,
     "metadata": {},
     "output_type": "execute_result"
    }
   ],
   "source": [
    "# Making sure that we have the correct cleaned dataset\n",
    "dfo.isna().sum()"
   ]
  },
  {
   "cell_type": "code",
   "execution_count": 179,
   "metadata": {},
   "outputs": [],
   "source": [
    "# Create main DataFrame for manipulation\n",
    "df = dfo.copy()"
   ]
  },
  {
   "cell_type": "markdown",
   "metadata": {},
   "source": [
    "## Divide feature into features and contents of the water sample"
   ]
  },
  {
   "cell_type": "code",
   "execution_count": 180,
   "metadata": {},
   "outputs": [],
   "source": [
    "feature = ['ph', 'Hardness', 'Conductivity', 'Turbidity']\n",
    "contents = ['Solids', 'Chloramines', 'Sulfate', 'Organic_carbon','Trihalomethanes']"
   ]
  },
  {
   "cell_type": "markdown",
   "metadata": {},
   "source": [
    "## Create column based on contents"
   ]
  },
  {
   "cell_type": "code",
   "execution_count": 182,
   "metadata": {},
   "outputs": [
    {
     "data": {
      "text/html": [
       "<div>\n",
       "<style scoped>\n",
       "    .dataframe tbody tr th:only-of-type {\n",
       "        vertical-align: middle;\n",
       "    }\n",
       "\n",
       "    .dataframe tbody tr th {\n",
       "        vertical-align: top;\n",
       "    }\n",
       "\n",
       "    .dataframe thead th {\n",
       "        text-align: right;\n",
       "    }\n",
       "</style>\n",
       "<table border=\"1\" class=\"dataframe\">\n",
       "  <thead>\n",
       "    <tr style=\"text-align: right;\">\n",
       "      <th></th>\n",
       "      <th>ph</th>\n",
       "      <th>Hardness</th>\n",
       "      <th>Solids</th>\n",
       "      <th>Chloramines</th>\n",
       "      <th>Sulfate</th>\n",
       "      <th>Conductivity</th>\n",
       "      <th>Organic_carbon</th>\n",
       "      <th>Trihalomethanes</th>\n",
       "      <th>Turbidity</th>\n",
       "      <th>Potability</th>\n",
       "      <th>contents</th>\n",
       "    </tr>\n",
       "  </thead>\n",
       "  <tbody>\n",
       "    <tr>\n",
       "      <th>0</th>\n",
       "      <td>7.038092</td>\n",
       "      <td>204.890455</td>\n",
       "      <td>20791.318981</td>\n",
       "      <td>7.300212</td>\n",
       "      <td>368.516441</td>\n",
       "      <td>564.308654</td>\n",
       "      <td>10.379783</td>\n",
       "      <td>86.990970</td>\n",
       "      <td>2.963135</td>\n",
       "      <td>0</td>\n",
       "      <td>21264.506388</td>\n",
       "    </tr>\n",
       "    <tr>\n",
       "      <th>1</th>\n",
       "      <td>3.716080</td>\n",
       "      <td>129.422921</td>\n",
       "      <td>18630.057858</td>\n",
       "      <td>6.635246</td>\n",
       "      <td>333.389426</td>\n",
       "      <td>592.885359</td>\n",
       "      <td>15.180013</td>\n",
       "      <td>56.329076</td>\n",
       "      <td>4.500656</td>\n",
       "      <td>0</td>\n",
       "      <td>19041.591619</td>\n",
       "    </tr>\n",
       "    <tr>\n",
       "      <th>2</th>\n",
       "      <td>8.099124</td>\n",
       "      <td>224.236259</td>\n",
       "      <td>19909.541732</td>\n",
       "      <td>9.275884</td>\n",
       "      <td>333.389426</td>\n",
       "      <td>418.606213</td>\n",
       "      <td>16.868637</td>\n",
       "      <td>66.420093</td>\n",
       "      <td>3.055934</td>\n",
       "      <td>0</td>\n",
       "      <td>20335.495771</td>\n",
       "    </tr>\n",
       "    <tr>\n",
       "      <th>3</th>\n",
       "      <td>8.316766</td>\n",
       "      <td>214.373394</td>\n",
       "      <td>22018.417441</td>\n",
       "      <td>8.059332</td>\n",
       "      <td>356.886136</td>\n",
       "      <td>363.266516</td>\n",
       "      <td>18.436524</td>\n",
       "      <td>100.341674</td>\n",
       "      <td>4.628771</td>\n",
       "      <td>0</td>\n",
       "      <td>22502.141108</td>\n",
       "    </tr>\n",
       "    <tr>\n",
       "      <th>4</th>\n",
       "      <td>9.092223</td>\n",
       "      <td>181.101509</td>\n",
       "      <td>17978.986339</td>\n",
       "      <td>6.546600</td>\n",
       "      <td>310.135738</td>\n",
       "      <td>398.410813</td>\n",
       "      <td>11.558279</td>\n",
       "      <td>31.997993</td>\n",
       "      <td>4.075075</td>\n",
       "      <td>0</td>\n",
       "      <td>18339.224949</td>\n",
       "    </tr>\n",
       "  </tbody>\n",
       "</table>\n",
       "</div>"
      ],
      "text/plain": [
       "         ph    Hardness        Solids  Chloramines     Sulfate  Conductivity  \\\n",
       "0  7.038092  204.890455  20791.318981     7.300212  368.516441    564.308654   \n",
       "1  3.716080  129.422921  18630.057858     6.635246  333.389426    592.885359   \n",
       "2  8.099124  224.236259  19909.541732     9.275884  333.389426    418.606213   \n",
       "3  8.316766  214.373394  22018.417441     8.059332  356.886136    363.266516   \n",
       "4  9.092223  181.101509  17978.986339     6.546600  310.135738    398.410813   \n",
       "\n",
       "   Organic_carbon  Trihalomethanes  Turbidity  Potability      contents  \n",
       "0       10.379783        86.990970   2.963135           0  21264.506388  \n",
       "1       15.180013        56.329076   4.500656           0  19041.591619  \n",
       "2       16.868637        66.420093   3.055934           0  20335.495771  \n",
       "3       18.436524       100.341674   4.628771           0  22502.141108  \n",
       "4       11.558279        31.997993   4.075075           0  18339.224949  "
      ]
     },
     "execution_count": 182,
     "metadata": {},
     "output_type": "execute_result"
    }
   ],
   "source": [
    "df['contents'] = df.loc[:, contents].sum(axis=1)\n",
    "df.head()"
   ]
  },
  {
   "cell_type": "markdown",
   "metadata": {},
   "source": [
    "## Possible connection between pH and chloramines"
   ]
  },
  {
   "cell_type": "code",
   "execution_count": 183,
   "metadata": {},
   "outputs": [
    {
     "data": {
      "text/html": [
       "<div>\n",
       "<style scoped>\n",
       "    .dataframe tbody tr th:only-of-type {\n",
       "        vertical-align: middle;\n",
       "    }\n",
       "\n",
       "    .dataframe tbody tr th {\n",
       "        vertical-align: top;\n",
       "    }\n",
       "\n",
       "    .dataframe thead th {\n",
       "        text-align: right;\n",
       "    }\n",
       "</style>\n",
       "<table border=\"1\" class=\"dataframe\">\n",
       "  <thead>\n",
       "    <tr style=\"text-align: right;\">\n",
       "      <th></th>\n",
       "      <th>ph</th>\n",
       "      <th>Chloramines</th>\n",
       "    </tr>\n",
       "  </thead>\n",
       "  <tbody>\n",
       "    <tr>\n",
       "      <th>count</th>\n",
       "      <td>3276.000000</td>\n",
       "      <td>3276.000000</td>\n",
       "    </tr>\n",
       "    <tr>\n",
       "      <th>mean</th>\n",
       "      <td>7.076470</td>\n",
       "      <td>7.122277</td>\n",
       "    </tr>\n",
       "    <tr>\n",
       "      <th>std</th>\n",
       "      <td>1.464829</td>\n",
       "      <td>1.583085</td>\n",
       "    </tr>\n",
       "    <tr>\n",
       "      <th>min</th>\n",
       "      <td>0.227499</td>\n",
       "      <td>0.352000</td>\n",
       "    </tr>\n",
       "    <tr>\n",
       "      <th>25%</th>\n",
       "      <td>6.279317</td>\n",
       "      <td>6.127421</td>\n",
       "    </tr>\n",
       "    <tr>\n",
       "      <th>50%</th>\n",
       "      <td>7.038092</td>\n",
       "      <td>7.130299</td>\n",
       "    </tr>\n",
       "    <tr>\n",
       "      <th>75%</th>\n",
       "      <td>7.870050</td>\n",
       "      <td>8.114887</td>\n",
       "    </tr>\n",
       "    <tr>\n",
       "      <th>max</th>\n",
       "      <td>14.000000</td>\n",
       "      <td>13.127000</td>\n",
       "    </tr>\n",
       "  </tbody>\n",
       "</table>\n",
       "</div>"
      ],
      "text/plain": [
       "                ph  Chloramines\n",
       "count  3276.000000  3276.000000\n",
       "mean      7.076470     7.122277\n",
       "std       1.464829     1.583085\n",
       "min       0.227499     0.352000\n",
       "25%       6.279317     6.127421\n",
       "50%       7.038092     7.130299\n",
       "75%       7.870050     8.114887\n",
       "max      14.000000    13.127000"
      ]
     },
     "execution_count": 183,
     "metadata": {},
     "output_type": "execute_result"
    }
   ],
   "source": [
    "df.loc[:, ['ph', 'Chloramines']].describe()"
   ]
  },
  {
   "cell_type": "markdown",
   "metadata": {},
   "source": [
    "### Create column of difference between ph and chloramines"
   ]
  },
  {
   "cell_type": "code",
   "execution_count": 184,
   "metadata": {},
   "outputs": [],
   "source": [
    "df['diff_ph_chloramines'] = np.abs(df.ph - df.Chloramines)"
   ]
  },
  {
   "cell_type": "markdown",
   "metadata": {},
   "source": [
    "### Distribution of new values"
   ]
  },
  {
   "cell_type": "code",
   "execution_count": 185,
   "metadata": {},
   "outputs": [
    {
     "data": {
      "image/png": "[encoded data removed]",
      "text/plain": [
       "<Figure size 1080x360 with 2 Axes>"
      ]
     },
     "metadata": {
      "needs_background": "light"
     },
     "output_type": "display_data"
    }
   ],
   "source": [
    "fig, ax = plt.subplots(1, 2, figsize=(15,5))\n",
    "sns.histplot(ax=ax[0], data=df, x='diff_ph_chloramines', hue='Potability', stat='density', common_norm=False)\n",
    "sns.kdeplot(ax=ax[1], data=df, x='diff_ph_chloramines', hue='Potability', common_norm=False);"
   ]
  },
  {
   "cell_type": "markdown",
   "metadata": {},
   "source": [
    "## Create new variables based on difference from mean"
   ]
  },
  {
   "cell_type": "code",
   "execution_count": 186,
   "metadata": {},
   "outputs": [
    {
     "data": {
      "text/html": [
       "<div>\n",
       "<style scoped>\n",
       "    .dataframe tbody tr th:only-of-type {\n",
       "        vertical-align: middle;\n",
       "    }\n",
       "\n",
       "    .dataframe tbody tr th {\n",
       "        vertical-align: top;\n",
       "    }\n",
       "\n",
       "    .dataframe thead th {\n",
       "        text-align: right;\n",
       "    }\n",
       "</style>\n",
       "<table border=\"1\" class=\"dataframe\">\n",
       "  <thead>\n",
       "    <tr style=\"text-align: right;\">\n",
       "      <th></th>\n",
       "      <th>ph</th>\n",
       "      <th>Hardness</th>\n",
       "      <th>Solids</th>\n",
       "      <th>Chloramines</th>\n",
       "      <th>Sulfate</th>\n",
       "      <th>Conductivity</th>\n",
       "      <th>Organic_carbon</th>\n",
       "      <th>Trihalomethanes</th>\n",
       "      <th>Turbidity</th>\n",
       "      <th>Potability</th>\n",
       "      <th>contents</th>\n",
       "      <th>diff_ph_chloramines</th>\n",
       "      <th>ph_fixed</th>\n",
       "      <th>chloramines_fixed</th>\n",
       "      <th>turbidity_fixed</th>\n",
       "    </tr>\n",
       "  </thead>\n",
       "  <tbody>\n",
       "    <tr>\n",
       "      <th>0</th>\n",
       "      <td>7.038092</td>\n",
       "      <td>204.890455</td>\n",
       "      <td>20791.318981</td>\n",
       "      <td>7.300212</td>\n",
       "      <td>368.516441</td>\n",
       "      <td>564.308654</td>\n",
       "      <td>10.379783</td>\n",
       "      <td>86.990970</td>\n",
       "      <td>2.963135</td>\n",
       "      <td>0</td>\n",
       "      <td>21264.506388</td>\n",
       "      <td>0.262120</td>\n",
       "      <td>0.038092</td>\n",
       "      <td>0.300212</td>\n",
       "      <td>1.036865</td>\n",
       "    </tr>\n",
       "    <tr>\n",
       "      <th>1</th>\n",
       "      <td>3.716080</td>\n",
       "      <td>129.422921</td>\n",
       "      <td>18630.057858</td>\n",
       "      <td>6.635246</td>\n",
       "      <td>333.389426</td>\n",
       "      <td>592.885359</td>\n",
       "      <td>15.180013</td>\n",
       "      <td>56.329076</td>\n",
       "      <td>4.500656</td>\n",
       "      <td>0</td>\n",
       "      <td>19041.591619</td>\n",
       "      <td>2.919166</td>\n",
       "      <td>3.283920</td>\n",
       "      <td>0.364754</td>\n",
       "      <td>0.500656</td>\n",
       "    </tr>\n",
       "    <tr>\n",
       "      <th>2</th>\n",
       "      <td>8.099124</td>\n",
       "      <td>224.236259</td>\n",
       "      <td>19909.541732</td>\n",
       "      <td>9.275884</td>\n",
       "      <td>333.389426</td>\n",
       "      <td>418.606213</td>\n",
       "      <td>16.868637</td>\n",
       "      <td>66.420093</td>\n",
       "      <td>3.055934</td>\n",
       "      <td>0</td>\n",
       "      <td>20335.495771</td>\n",
       "      <td>1.176759</td>\n",
       "      <td>1.099124</td>\n",
       "      <td>2.275884</td>\n",
       "      <td>0.944066</td>\n",
       "    </tr>\n",
       "    <tr>\n",
       "      <th>3</th>\n",
       "      <td>8.316766</td>\n",
       "      <td>214.373394</td>\n",
       "      <td>22018.417441</td>\n",
       "      <td>8.059332</td>\n",
       "      <td>356.886136</td>\n",
       "      <td>363.266516</td>\n",
       "      <td>18.436524</td>\n",
       "      <td>100.341674</td>\n",
       "      <td>4.628771</td>\n",
       "      <td>0</td>\n",
       "      <td>22502.141108</td>\n",
       "      <td>0.257434</td>\n",
       "      <td>1.316766</td>\n",
       "      <td>1.059332</td>\n",
       "      <td>0.628771</td>\n",
       "    </tr>\n",
       "    <tr>\n",
       "      <th>4</th>\n",
       "      <td>9.092223</td>\n",
       "      <td>181.101509</td>\n",
       "      <td>17978.986339</td>\n",
       "      <td>6.546600</td>\n",
       "      <td>310.135738</td>\n",
       "      <td>398.410813</td>\n",
       "      <td>11.558279</td>\n",
       "      <td>31.997993</td>\n",
       "      <td>4.075075</td>\n",
       "      <td>0</td>\n",
       "      <td>18339.224949</td>\n",
       "      <td>2.545623</td>\n",
       "      <td>2.092223</td>\n",
       "      <td>0.453400</td>\n",
       "      <td>0.075075</td>\n",
       "    </tr>\n",
       "  </tbody>\n",
       "</table>\n",
       "</div>"
      ],
      "text/plain": [
       "         ph    Hardness        Solids  Chloramines     Sulfate  Conductivity  \\\n",
       "0  7.038092  204.890455  20791.318981     7.300212  368.516441    564.308654   \n",
       "1  3.716080  129.422921  18630.057858     6.635246  333.389426    592.885359   \n",
       "2  8.099124  224.236259  19909.541732     9.275884  333.389426    418.606213   \n",
       "3  8.316766  214.373394  22018.417441     8.059332  356.886136    363.266516   \n",
       "4  9.092223  181.101509  17978.986339     6.546600  310.135738    398.410813   \n",
       "\n",
       "   Organic_carbon  Trihalomethanes  Turbidity  Potability      contents  \\\n",
       "0       10.379783        86.990970   2.963135           0  21264.506388   \n",
       "1       15.180013        56.329076   4.500656           0  19041.591619   \n",
       "2       16.868637        66.420093   3.055934           0  20335.495771   \n",
       "3       18.436524       100.341674   4.628771           0  22502.141108   \n",
       "4       11.558279        31.997993   4.075075           0  18339.224949   \n",
       "\n",
       "   diff_ph_chloramines  ph_fixed  chloramines_fixed  turbidity_fixed  \n",
       "0             0.262120  0.038092           0.300212         1.036865  \n",
       "1             2.919166  3.283920           0.364754         0.500656  \n",
       "2             1.176759  1.099124           2.275884         0.944066  \n",
       "3             0.257434  1.316766           1.059332         0.628771  \n",
       "4             2.545623  2.092223           0.453400         0.075075  "
      ]
     },
     "execution_count": 186,
     "metadata": {},
     "output_type": "execute_result"
    }
   ],
   "source": [
    "df['ph_fixed'] = np.abs(df.ph - 7)\n",
    "df['chloramines_fixed'] = np.abs(df.Chloramines - 7)\n",
    "df['turbidity_fixed'] = np.abs(df.Turbidity - 4)\n",
    "\n",
    "df.head()"
   ]
  },
  {
   "cell_type": "markdown",
   "metadata": {},
   "source": [
    "## Store and upload new dataset"
   ]
  },
  {
   "cell_type": "code",
   "execution_count": 192,
   "metadata": {},
   "outputs": [],
   "source": [
    "# Save to csv\n",
    "local_path = 'Data/water_potability_engineered_logical.csv'\n",
    "df.to_csv(local_path, index=False)"
   ]
  },
  {
   "cell_type": "code",
   "execution_count": 193,
   "metadata": {},
   "outputs": [
    {
     "name": "stdout",
     "output_type": "stream",
     "text": [
      "Uploading an estimated of 1 files\n",
      "Uploading Data/water_potability_engineered_logical.csv\n",
      "Uploaded Data/water_potability_engineered_logical.csv, 1 files out of an estimated total of 1\n",
      "Uploaded 1 files\n"
     ]
    },
    {
     "data": {
      "text/plain": [
       "$AZUREML_DATAREFERENCE_9d80e6f4abd548598fb6a783b9ec8114"
      ]
     },
     "execution_count": 193,
     "metadata": {},
     "output_type": "execute_result"
    }
   ],
   "source": [
    "# Upload to Azure\n",
    "from azureml.core import Datastore\n",
    "datastore = ws.get_default_datastore()\n",
    "datastore.upload_files(files=[local_path], target_path='data', overwrite=True)"
   ]
  },
  {
   "cell_type": "code",
   "execution_count": 194,
   "metadata": {},
   "outputs": [],
   "source": [
    "# Create a dataset and register it\n",
    "water_potability_engineered_logical = Dataset.Tabular.from_delimited_files(path = [(datastore, \"data/water_potability_engineered_logical.csv\")])\n",
    "water_potability_engineered_logical = water_potability_engineered_logical.register(workspace=ws,\n",
    "                                                            name = 'water_potability_engineered_logical',\n",
    "                                                            description = 'Logical feature engineering',\n",
    "                                                            create_new_version=False)"
   ]
  },
  {
   "cell_type": "markdown",
   "metadata": {},
   "source": [
    "# Feature engineering, brute force"
   ]
  },
  {
   "cell_type": "code",
   "execution_count": 11,
   "metadata": {},
   "outputs": [],
   "source": [
    "# Create main DataFrame for manipulation\n",
    "filename = 'Data/water_potability_cleaned.csv'\n",
    "dfo = pd.read_csv(filename)\n",
    "\n",
    "df_brute = dfo.copy()"
   ]
  },
  {
   "cell_type": "code",
   "execution_count": 12,
   "metadata": {},
   "outputs": [],
   "source": [
    "import itertools\n",
    "liste = df_brute.columns[:-1]\n",
    "combs = itertools.combinations(liste, 2)\n"
   ]
  },
  {
   "cell_type": "code",
   "execution_count": 13,
   "metadata": {},
   "outputs": [
    {
     "data": {
      "text/html": [
       "<div>\n",
       "<style scoped>\n",
       "    .dataframe tbody tr th:only-of-type {\n",
       "        vertical-align: middle;\n",
       "    }\n",
       "\n",
       "    .dataframe tbody tr th {\n",
       "        vertical-align: top;\n",
       "    }\n",
       "\n",
       "    .dataframe thead th {\n",
       "        text-align: right;\n",
       "    }\n",
       "</style>\n",
       "<table border=\"1\" class=\"dataframe\">\n",
       "  <thead>\n",
       "    <tr style=\"text-align: right;\">\n",
       "      <th></th>\n",
       "      <th>ph</th>\n",
       "      <th>Hardness</th>\n",
       "      <th>Solids</th>\n",
       "      <th>Chloramines</th>\n",
       "      <th>Sulfate</th>\n",
       "      <th>Conductivity</th>\n",
       "      <th>Organic_carbon</th>\n",
       "      <th>Trihalomethanes</th>\n",
       "      <th>Turbidity</th>\n",
       "      <th>Potability</th>\n",
       "      <th>...</th>\n",
       "      <th>ratio_Conductivity_Trihalomethanes</th>\n",
       "      <th>diff_Conductivity_Trihalomethanes</th>\n",
       "      <th>ratio_Turbidity_Conductivity</th>\n",
       "      <th>diff_Turbidity_Conductivity</th>\n",
       "      <th>ratio_Trihalomethanes_Organic_carbon</th>\n",
       "      <th>diff_Trihalomethanes_Organic_carbon</th>\n",
       "      <th>ratio_Turbidity_Organic_carbon</th>\n",
       "      <th>diff_Turbidity_Organic_carbon</th>\n",
       "      <th>ratio_Turbidity_Trihalomethanes</th>\n",
       "      <th>diff_Turbidity_Trihalomethanes</th>\n",
       "    </tr>\n",
       "  </thead>\n",
       "  <tbody>\n",
       "    <tr>\n",
       "      <th>0</th>\n",
       "      <td>7.038092</td>\n",
       "      <td>204.890455</td>\n",
       "      <td>20791.318981</td>\n",
       "      <td>7.300212</td>\n",
       "      <td>368.516441</td>\n",
       "      <td>564.308654</td>\n",
       "      <td>10.379783</td>\n",
       "      <td>86.990970</td>\n",
       "      <td>2.963135</td>\n",
       "      <td>0</td>\n",
       "      <td>...</td>\n",
       "      <td>6.486980</td>\n",
       "      <td>477.317684</td>\n",
       "      <td>0.005251</td>\n",
       "      <td>561.345519</td>\n",
       "      <td>8.380808</td>\n",
       "      <td>76.611187</td>\n",
       "      <td>0.285472</td>\n",
       "      <td>7.416648</td>\n",
       "      <td>0.034063</td>\n",
       "      <td>84.027835</td>\n",
       "    </tr>\n",
       "    <tr>\n",
       "      <th>1</th>\n",
       "      <td>3.716080</td>\n",
       "      <td>129.422921</td>\n",
       "      <td>18630.057858</td>\n",
       "      <td>6.635246</td>\n",
       "      <td>333.389426</td>\n",
       "      <td>592.885359</td>\n",
       "      <td>15.180013</td>\n",
       "      <td>56.329076</td>\n",
       "      <td>4.500656</td>\n",
       "      <td>0</td>\n",
       "      <td>...</td>\n",
       "      <td>10.525388</td>\n",
       "      <td>536.556283</td>\n",
       "      <td>0.007591</td>\n",
       "      <td>588.384703</td>\n",
       "      <td>3.710740</td>\n",
       "      <td>41.149063</td>\n",
       "      <td>0.296486</td>\n",
       "      <td>10.679357</td>\n",
       "      <td>0.079899</td>\n",
       "      <td>51.828420</td>\n",
       "    </tr>\n",
       "    <tr>\n",
       "      <th>2</th>\n",
       "      <td>8.099124</td>\n",
       "      <td>224.236259</td>\n",
       "      <td>19909.541732</td>\n",
       "      <td>9.275884</td>\n",
       "      <td>333.389426</td>\n",
       "      <td>418.606213</td>\n",
       "      <td>16.868637</td>\n",
       "      <td>66.420093</td>\n",
       "      <td>3.055934</td>\n",
       "      <td>0</td>\n",
       "      <td>...</td>\n",
       "      <td>6.302403</td>\n",
       "      <td>352.186121</td>\n",
       "      <td>0.007300</td>\n",
       "      <td>415.550279</td>\n",
       "      <td>3.937490</td>\n",
       "      <td>49.551456</td>\n",
       "      <td>0.181161</td>\n",
       "      <td>13.812703</td>\n",
       "      <td>0.046009</td>\n",
       "      <td>63.364159</td>\n",
       "    </tr>\n",
       "    <tr>\n",
       "      <th>3</th>\n",
       "      <td>8.316766</td>\n",
       "      <td>214.373394</td>\n",
       "      <td>22018.417441</td>\n",
       "      <td>8.059332</td>\n",
       "      <td>356.886136</td>\n",
       "      <td>363.266516</td>\n",
       "      <td>18.436524</td>\n",
       "      <td>100.341674</td>\n",
       "      <td>4.628771</td>\n",
       "      <td>0</td>\n",
       "      <td>...</td>\n",
       "      <td>3.620296</td>\n",
       "      <td>262.924842</td>\n",
       "      <td>0.012742</td>\n",
       "      <td>358.637746</td>\n",
       "      <td>5.442548</td>\n",
       "      <td>81.905150</td>\n",
       "      <td>0.251065</td>\n",
       "      <td>13.807754</td>\n",
       "      <td>0.046130</td>\n",
       "      <td>95.712904</td>\n",
       "    </tr>\n",
       "    <tr>\n",
       "      <th>4</th>\n",
       "      <td>9.092223</td>\n",
       "      <td>181.101509</td>\n",
       "      <td>17978.986339</td>\n",
       "      <td>6.546600</td>\n",
       "      <td>310.135738</td>\n",
       "      <td>398.410813</td>\n",
       "      <td>11.558279</td>\n",
       "      <td>31.997993</td>\n",
       "      <td>4.075075</td>\n",
       "      <td>0</td>\n",
       "      <td>...</td>\n",
       "      <td>12.451119</td>\n",
       "      <td>366.412821</td>\n",
       "      <td>0.010228</td>\n",
       "      <td>394.335738</td>\n",
       "      <td>2.768404</td>\n",
       "      <td>20.439713</td>\n",
       "      <td>0.352568</td>\n",
       "      <td>7.483204</td>\n",
       "      <td>0.127354</td>\n",
       "      <td>27.922917</td>\n",
       "    </tr>\n",
       "  </tbody>\n",
       "</table>\n",
       "<p>5 rows × 82 columns</p>\n",
       "</div>"
      ],
      "text/plain": [
       "         ph    Hardness        Solids  Chloramines     Sulfate  Conductivity  \\\n",
       "0  7.038092  204.890455  20791.318981     7.300212  368.516441    564.308654   \n",
       "1  3.716080  129.422921  18630.057858     6.635246  333.389426    592.885359   \n",
       "2  8.099124  224.236259  19909.541732     9.275884  333.389426    418.606213   \n",
       "3  8.316766  214.373394  22018.417441     8.059332  356.886136    363.266516   \n",
       "4  9.092223  181.101509  17978.986339     6.546600  310.135738    398.410813   \n",
       "\n",
       "   Organic_carbon  Trihalomethanes  Turbidity  Potability  ...  \\\n",
       "0       10.379783        86.990970   2.963135           0  ...   \n",
       "1       15.180013        56.329076   4.500656           0  ...   \n",
       "2       16.868637        66.420093   3.055934           0  ...   \n",
       "3       18.436524       100.341674   4.628771           0  ...   \n",
       "4       11.558279        31.997993   4.075075           0  ...   \n",
       "\n",
       "   ratio_Conductivity_Trihalomethanes  diff_Conductivity_Trihalomethanes  \\\n",
       "0                            6.486980                         477.317684   \n",
       "1                           10.525388                         536.556283   \n",
       "2                            6.302403                         352.186121   \n",
       "3                            3.620296                         262.924842   \n",
       "4                           12.451119                         366.412821   \n",
       "\n",
       "   ratio_Turbidity_Conductivity  diff_Turbidity_Conductivity  \\\n",
       "0                      0.005251                   561.345519   \n",
       "1                      0.007591                   588.384703   \n",
       "2                      0.007300                   415.550279   \n",
       "3                      0.012742                   358.637746   \n",
       "4                      0.010228                   394.335738   \n",
       "\n",
       "   ratio_Trihalomethanes_Organic_carbon  diff_Trihalomethanes_Organic_carbon  \\\n",
       "0                              8.380808                            76.611187   \n",
       "1                              3.710740                            41.149063   \n",
       "2                              3.937490                            49.551456   \n",
       "3                              5.442548                            81.905150   \n",
       "4                              2.768404                            20.439713   \n",
       "\n",
       "   ratio_Turbidity_Organic_carbon  diff_Turbidity_Organic_carbon  \\\n",
       "0                        0.285472                       7.416648   \n",
       "1                        0.296486                      10.679357   \n",
       "2                        0.181161                      13.812703   \n",
       "3                        0.251065                      13.807754   \n",
       "4                        0.352568                       7.483204   \n",
       "\n",
       "   ratio_Turbidity_Trihalomethanes  diff_Turbidity_Trihalomethanes  \n",
       "0                         0.034063                       84.027835  \n",
       "1                         0.079899                       51.828420  \n",
       "2                         0.046009                       63.364159  \n",
       "3                         0.046130                       95.712904  \n",
       "4                         0.127354                       27.922917  \n",
       "\n",
       "[5 rows x 82 columns]"
      ]
     },
     "execution_count": 13,
     "metadata": {},
     "output_type": "execute_result"
    }
   ],
   "source": [
    "# Loop through possible combinations of features\n",
    "for c in combs:\n",
    "    # Difference between two features\n",
    "    diff = np.abs(df_brute[c[0]] - df_brute[c[1]])\n",
    "\n",
    "    # Ratio between two features\n",
    "    ratio = df_brute[c[0]] / df_brute[c[1]] # Ratio between features\n",
    "    ratio_alt = df_brute[c[1]] / df_brute[c[0]] # Ratio inversed\n",
    "    \n",
    "    # Calculate correlation in absolute value\n",
    "    corr0 = np.abs(np.corrcoef(df_brute.Potability, ratio)[0,1])\n",
    "    corr1 = np.abs(np.corrcoef(df_brute.Potability, ratio_alt)[0,1])\n",
    "\n",
    "    # Choose ratio with highest correlation\n",
    "    if corr1 > corr0:\n",
    "        ratio = ratio_alt\n",
    "        name = f'_{c[1]}_{c[0]}'\n",
    "    else:\n",
    "        name = f'_{c[0]}_{c[1]}'\n",
    "\n",
    "    # Assign names\n",
    "    df_brute[f'ratio{name}'] = ratio\n",
    "    df_brute[f'diff{name}'] = diff\n",
    "\n",
    "\n",
    "df_brute.head()"
   ]
  },
  {
   "cell_type": "code",
   "execution_count": 16,
   "metadata": {},
   "outputs": [],
   "source": [
    "# Correlation object\n",
    "corr_brute = df_brute.corr(method = 'pearson')\n",
    "mask = abs(corr_brute.Potability).sort_values(ascending=False) < 0.01\n",
    "\n",
    "mask[0] = True\n",
    "df_brute = df_brute.loc[:, mask]"
   ]
  },
  {
   "cell_type": "code",
   "execution_count": 207,
   "metadata": {},
   "outputs": [
    {
     "data": {
      "text/plain": [
       "<AxesSubplot:>"
      ]
     },
     "execution_count": 207,
     "metadata": {},
     "output_type": "execute_result"
    },
    {
     "data": {
      "image/png": "[encoded data removed]",
      "text/plain": [
       "<Figure size 432x288 with 3 Axes>"
      ]
     },
     "metadata": {
      "needs_background": "light"
     },
     "output_type": "display_data"
    }
   ],
   "source": [
    "\n",
    "y = np.array([1]*60)\n",
    "y[20:40] = 0\n",
    "x = np.linspace(30,70,60)\n",
    "dft = pd.DataFrame(data={'x': x, 'y': y})\n",
    "dft.plot.scatter(x='x', y='y')\n",
    "sns.heatmap(dft.corr(method='pearson'), annot=True, fmt='f')\n",
    "dft['x-diff'] = abs(dft.x - dft.x.mean())\n",
    "sns.heatmap(dft.corr(method='pearson'), annot=True, fmt='f')"
   ]
  },
  {
   "cell_type": "code",
   "execution_count": 9,
   "metadata": {},
   "outputs": [],
   "source": [
    "df_brute.to_csv('Data/water_potability_engineered_brute.csv', index=False)"
   ]
  }
 ],
 "metadata": {
  "interpreter": {
   "hash": "a1120d09c9d984dd6662d8684466124b5e9d11f9e0d6ebf7d48ec80d062d7e41"
  },
  "kernelspec": {
   "display_name": "Python 3.8.11 64-bit ('azure': conda)",
   "name": "python3"
  },
  "language_info": {
   "codemirror_mode": {
    "name": "ipython",
    "version": 3
   },
   "file_extension": ".py",
   "mimetype": "text/x-python",
   "name": "python",
   "nbconvert_exporter": "python",
   "pygments_lexer": "ipython3",
   "version": "3.8.11"
  },
  "orig_nbformat": 4
 },
 "nbformat": 4,
 "nbformat_minor": 2
}
